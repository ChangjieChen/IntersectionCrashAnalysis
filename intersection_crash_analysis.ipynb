{
 "cells": [
  {
   "cell_type": "code",
   "execution_count": 1,
   "metadata": {
    "collapsed": true
   },
   "outputs": [
    {
     "name": "stderr",
     "output_type": "stream",
     "text": [
      "Warning message:\n",
      "\"package 'MASS' was built under R version 3.5.2\"Warning message:\n",
      "\"package 'e1071' was built under R version 3.5.3\"Warning message:\n",
      "\"package 'class' was built under R version 3.5.3\""
     ]
    }
   ],
   "source": [
    "library(MASS)\n",
    "library(e1071)\n",
    "library(class)\n",
    "setwd(\"D:/OneDrive - University of Florida/Courses/2019 Spring/STA 6707/Project/Data\")"
   ]
  },
  {
   "cell_type": "code",
   "execution_count": 2,
   "metadata": {},
   "outputs": [
    {
     "data": {
      "image/png": "[encoded data removed]",
      "text/plain": [
       "Plot with title \"Number of intersections by the crash types occured near them\""
      ]
     },
     "metadata": {},
     "output_type": "display_data"
    }
   ],
   "source": [
    "options(repr.plot.width=7, repr.plot.height=4)\n",
    "crash.logdata <- readRDS(\"Data_log_Sample_0418.Rda\")\n",
    "crash.data <- readRDS(\"Data_Sample_0418.Rda\")\n",
    "bp <-barplot(\n",
    "    summary(crash.data$Y.f), names.arg=c(\"1-fatal\", \"2-injured\", \"3-PDO\", \"4-no crash\"),\n",
    "    main=\"Number of intersections by the crash types occured near them\"\n",
    ")\n",
    "text(bp, summary(crash.data$Y.f)-40, labels=summary(crash.data$Y.f), cex=.8)"
   ]
  },
  {
   "cell_type": "markdown",
   "metadata": {},
   "source": [
    "***Remove categorical variables for LDA, QDA, KNN, and Naive Bayes***"
   ]
  },
  {
   "cell_type": "code",
   "execution_count": 3,
   "metadata": {
    "scrolled": true
   },
   "outputs": [
    {
     "data": {
      "text/html": [
       "<table>\n",
       "<thead><tr><th scope=col>Y.f</th><th scope=col>LU.res.log</th><th scope=col>LU.arg.log</th><th scope=col>LU.ret.log</th><th scope=col>LU.com.log</th><th scope=col>LU.ent.log</th><th scope=col>LU.ser.log</th><th scope=col>LU.ind.log</th><th scope=col>LU.ins.log</th><th scope=col>LU.rec.log</th><th scope=col>LU.oth.log</th><th scope=col>AADT.max.log</th><th scope=col>AADT.min.log</th><th scope=col>AADT.avg.log</th><th scope=col>AADT.diff.log</th><th scope=col>Int.Angle.log</th><th scope=col>Loc.Dist.Curve.log</th><th scope=col>Loc.Dist.Int.log</th></tr></thead>\n",
       "<tbody>\n",
       "\t<tr><td>1           </td><td>1.158894e-01</td><td>0.6026579   </td><td>0.000000000 </td><td>0.000000000 </td><td>0           </td><td>0.000000000 </td><td>0.000000000 </td><td>0.00000000  </td><td>0           </td><td>0.048942584 </td><td>7.937732    </td><td>5.017280    </td><td>7.401842    </td><td>7.882692    </td><td>4.510860    </td><td>6.821211    </td><td>6.705755    </td></tr>\n",
       "\t<tr><td>1           </td><td>5.398903e-02</td><td>0.6619995   </td><td>0.000000000 </td><td>0.000000000 </td><td>0           </td><td>0.005845042 </td><td>0.000000000 </td><td>0.00000000  </td><td>0           </td><td>0.000000000 </td><td>6.621406    </td><td>6.311735    </td><td>6.478510    </td><td>5.303305    </td><td>4.510860    </td><td>7.341346    </td><td>6.399959    </td></tr>\n",
       "\t<tr><td>1           </td><td>1.329079e-01</td><td>0.6194227   </td><td>0.000000000 </td><td>0.000000000 </td><td>0           </td><td>0.000000000 </td><td>0.000000000 </td><td>0.00000000  </td><td>0           </td><td>0.000000000 </td><td>6.857514    </td><td>2.995732    </td><td>6.206576    </td><td>6.837333    </td><td>4.401829    </td><td>0.000000    </td><td>3.767326    </td></tr>\n",
       "\t<tr><td>1           </td><td>2.609966e-05</td><td>0.6857607   </td><td>0.000000000 </td><td>0.000000000 </td><td>0           </td><td>0.000000000 </td><td>0.000000000 </td><td>0.00000000  </td><td>0           </td><td>0.014585669 </td><td>7.937732    </td><td>2.564949    </td><td>7.229114    </td><td>7.933438    </td><td>4.510860    </td><td>6.806593    </td><td>6.689333    </td></tr>\n",
       "\t<tr><td>1           </td><td>2.891719e-01</td><td>0.4579607   </td><td>0.001191155 </td><td>0.001784079 </td><td>0           </td><td>0.000000000 </td><td>0.009940649 </td><td>0.06018127  </td><td>0           </td><td>0.008796244 </td><td>8.389587    </td><td>6.311735    </td><td>7.829233    </td><td>8.256088    </td><td>4.122284    </td><td>4.829027    </td><td>3.222439    </td></tr>\n",
       "\t<tr><td>1           </td><td>1.029120e-01</td><td>0.5424737   </td><td>0.000000000 </td><td>0.000000000 </td><td>0           </td><td>0.000000000 </td><td>0.007137703 </td><td>0.00000000  </td><td>0           </td><td>0.152021971 </td><td>8.216358    </td><td>6.552508    </td><td>7.901377    </td><td>8.006701    </td><td>4.335983    </td><td>0.000000    </td><td>3.683016    </td></tr>\n",
       "</tbody>\n",
       "</table>\n"
      ],
      "text/latex": [
       "\\begin{tabular}{r|llllllllllllllllll}\n",
       " Y.f & LU.res.log & LU.arg.log & LU.ret.log & LU.com.log & LU.ent.log & LU.ser.log & LU.ind.log & LU.ins.log & LU.rec.log & LU.oth.log & AADT.max.log & AADT.min.log & AADT.avg.log & AADT.diff.log & Int.Angle.log & Loc.Dist.Curve.log & Loc.Dist.Int.log\\\\\n",
       "\\hline\n",
       "\t 1            & 1.158894e-01 & 0.6026579    & 0.000000000  & 0.000000000  & 0            & 0.000000000  & 0.000000000  & 0.00000000   & 0            & 0.048942584  & 7.937732     & 5.017280     & 7.401842     & 7.882692     & 4.510860     & 6.821211     & 6.705755    \\\\\n",
       "\t 1            & 5.398903e-02 & 0.6619995    & 0.000000000  & 0.000000000  & 0            & 0.005845042  & 0.000000000  & 0.00000000   & 0            & 0.000000000  & 6.621406     & 6.311735     & 6.478510     & 5.303305     & 4.510860     & 7.341346     & 6.399959    \\\\\n",
       "\t 1            & 1.329079e-01 & 0.6194227    & 0.000000000  & 0.000000000  & 0            & 0.000000000  & 0.000000000  & 0.00000000   & 0            & 0.000000000  & 6.857514     & 2.995732     & 6.206576     & 6.837333     & 4.401829     & 0.000000     & 3.767326    \\\\\n",
       "\t 1            & 2.609966e-05 & 0.6857607    & 0.000000000  & 0.000000000  & 0            & 0.000000000  & 0.000000000  & 0.00000000   & 0            & 0.014585669  & 7.937732     & 2.564949     & 7.229114     & 7.933438     & 4.510860     & 6.806593     & 6.689333    \\\\\n",
       "\t 1            & 2.891719e-01 & 0.4579607    & 0.001191155  & 0.001784079  & 0            & 0.000000000  & 0.009940649  & 0.06018127   & 0            & 0.008796244  & 8.389587     & 6.311735     & 7.829233     & 8.256088     & 4.122284     & 4.829027     & 3.222439    \\\\\n",
       "\t 1            & 1.029120e-01 & 0.5424737    & 0.000000000  & 0.000000000  & 0            & 0.000000000  & 0.007137703  & 0.00000000   & 0            & 0.152021971  & 8.216358     & 6.552508     & 7.901377     & 8.006701     & 4.335983     & 0.000000     & 3.683016    \\\\\n",
       "\\end{tabular}\n"
      ],
      "text/markdown": [
       "\n",
       "| Y.f | LU.res.log | LU.arg.log | LU.ret.log | LU.com.log | LU.ent.log | LU.ser.log | LU.ind.log | LU.ins.log | LU.rec.log | LU.oth.log | AADT.max.log | AADT.min.log | AADT.avg.log | AADT.diff.log | Int.Angle.log | Loc.Dist.Curve.log | Loc.Dist.Int.log |\n",
       "|---|---|---|---|---|---|---|---|---|---|---|---|---|---|---|---|---|---|\n",
       "| 1            | 1.158894e-01 | 0.6026579    | 0.000000000  | 0.000000000  | 0            | 0.000000000  | 0.000000000  | 0.00000000   | 0            | 0.048942584  | 7.937732     | 5.017280     | 7.401842     | 7.882692     | 4.510860     | 6.821211     | 6.705755     |\n",
       "| 1            | 5.398903e-02 | 0.6619995    | 0.000000000  | 0.000000000  | 0            | 0.005845042  | 0.000000000  | 0.00000000   | 0            | 0.000000000  | 6.621406     | 6.311735     | 6.478510     | 5.303305     | 4.510860     | 7.341346     | 6.399959     |\n",
       "| 1            | 1.329079e-01 | 0.6194227    | 0.000000000  | 0.000000000  | 0            | 0.000000000  | 0.000000000  | 0.00000000   | 0            | 0.000000000  | 6.857514     | 2.995732     | 6.206576     | 6.837333     | 4.401829     | 0.000000     | 3.767326     |\n",
       "| 1            | 2.609966e-05 | 0.6857607    | 0.000000000  | 0.000000000  | 0            | 0.000000000  | 0.000000000  | 0.00000000   | 0            | 0.014585669  | 7.937732     | 2.564949     | 7.229114     | 7.933438     | 4.510860     | 6.806593     | 6.689333     |\n",
       "| 1            | 2.891719e-01 | 0.4579607    | 0.001191155  | 0.001784079  | 0            | 0.000000000  | 0.009940649  | 0.06018127   | 0            | 0.008796244  | 8.389587     | 6.311735     | 7.829233     | 8.256088     | 4.122284     | 4.829027     | 3.222439     |\n",
       "| 1            | 1.029120e-01 | 0.5424737    | 0.000000000  | 0.000000000  | 0            | 0.000000000  | 0.007137703  | 0.00000000   | 0            | 0.152021971  | 8.216358     | 6.552508     | 7.901377     | 8.006701     | 4.335983     | 0.000000     | 3.683016     |\n",
       "\n"
      ],
      "text/plain": [
       "  Y.f LU.res.log   LU.arg.log LU.ret.log  LU.com.log  LU.ent.log LU.ser.log \n",
       "1 1   1.158894e-01 0.6026579  0.000000000 0.000000000 0          0.000000000\n",
       "2 1   5.398903e-02 0.6619995  0.000000000 0.000000000 0          0.005845042\n",
       "3 1   1.329079e-01 0.6194227  0.000000000 0.000000000 0          0.000000000\n",
       "4 1   2.609966e-05 0.6857607  0.000000000 0.000000000 0          0.000000000\n",
       "5 1   2.891719e-01 0.4579607  0.001191155 0.001784079 0          0.000000000\n",
       "6 1   1.029120e-01 0.5424737  0.000000000 0.000000000 0          0.000000000\n",
       "  LU.ind.log  LU.ins.log LU.rec.log LU.oth.log  AADT.max.log AADT.min.log\n",
       "1 0.000000000 0.00000000 0          0.048942584 7.937732     5.017280    \n",
       "2 0.000000000 0.00000000 0          0.000000000 6.621406     6.311735    \n",
       "3 0.000000000 0.00000000 0          0.000000000 6.857514     2.995732    \n",
       "4 0.000000000 0.00000000 0          0.014585669 7.937732     2.564949    \n",
       "5 0.009940649 0.06018127 0          0.008796244 8.389587     6.311735    \n",
       "6 0.007137703 0.00000000 0          0.152021971 8.216358     6.552508    \n",
       "  AADT.avg.log AADT.diff.log Int.Angle.log Loc.Dist.Curve.log Loc.Dist.Int.log\n",
       "1 7.401842     7.882692      4.510860      6.821211           6.705755        \n",
       "2 6.478510     5.303305      4.510860      7.341346           6.399959        \n",
       "3 6.206576     6.837333      4.401829      0.000000           3.767326        \n",
       "4 7.229114     7.933438      4.510860      6.806593           6.689333        \n",
       "5 7.829233     8.256088      4.122284      4.829027           3.222439        \n",
       "6 7.901377     8.006701      4.335983      0.000000           3.683016        "
      ]
     },
     "metadata": {},
     "output_type": "display_data"
    }
   ],
   "source": [
    "crash.logdata.numonly <- crash.logdata[\n",
    "    , c(FALSE, FALSE, TRUE, !sapply(crash.logdata[,4:ncol(crash.logdata)], is.factor))\n",
    "]\n",
    "head(crash.logdata.numonly)"
   ]
  },
  {
   "cell_type": "code",
   "execution_count": 4,
   "metadata": {},
   "outputs": [
    {
     "data": {
      "text/html": [
       "<table>\n",
       "<thead><tr><th scope=col>Y.f</th><th scope=col>LU.res</th><th scope=col>LU.arg</th><th scope=col>LU.ret</th><th scope=col>LU.com</th><th scope=col>LU.ent</th><th scope=col>LU.ser</th><th scope=col>LU.ind</th><th scope=col>LU.ins</th><th scope=col>LU.rec</th><th scope=col>LU.oth</th><th scope=col>AADT.max</th><th scope=col>AADT.min</th><th scope=col>AADT.avg</th><th scope=col>AADT.diff</th><th scope=col>Int.Angle</th><th scope=col>Loc.Dist.Curve</th><th scope=col>Loc.Dist.Int</th></tr></thead>\n",
       "<tbody>\n",
       "\t<tr><td>1          </td><td>0.12287168 </td><td>0.8269683  </td><td>0.000000000</td><td>0.000000000</td><td>0          </td><td>0.000000000</td><td>0.000000000</td><td>0.00000000 </td><td>0          </td><td>0.050160053</td><td>2800       </td><td>150        </td><td>1638       </td><td>2650       </td><td>90.0       </td><td> 916.0948  </td><td>816.09476  </td></tr>\n",
       "\t<tr><td>1          </td><td>0.05547302 </td><td>0.9386648  </td><td>0.000000000</td><td>0.000000000</td><td>0          </td><td>0.005862158</td><td>0.000000000</td><td>0.00000000 </td><td>0          </td><td>0.000000000</td><td> 750       </td><td>550        </td><td> 650       </td><td> 200       </td><td>90.0       </td><td>1541.7880  </td><td>600.82020  </td></tr>\n",
       "\t<tr><td>1          </td><td>0.14214478 </td><td>0.8578552  </td><td>0.000000000</td><td>0.000000000</td><td>0          </td><td>0.000000000</td><td>0.000000000</td><td>0.00000000 </td><td>0          </td><td>0.000000000</td><td> 950       </td><td> 19        </td><td> 495       </td><td> 931       </td><td>80.6       </td><td>   0.0000  </td><td> 42.26423  </td></tr>\n",
       "\t<tr><td>1          </td><td>0.00002610 </td><td>0.9852814  </td><td>0.000000000</td><td>0.000000000</td><td>0          </td><td>0.000000000</td><td>0.000000000</td><td>0.00000000 </td><td>0          </td><td>0.014692559</td><td>2800       </td><td> 12        </td><td>1378       </td><td>2788       </td><td>90.0       </td><td> 902.7862  </td><td>802.78624  </td></tr>\n",
       "\t<tr><td>1          </td><td>0.33532129 </td><td>0.5808469  </td><td>0.001191865</td><td>0.001785671</td><td>0          </td><td>0.000000000</td><td>0.009990221</td><td>0.06202904 </td><td>0          </td><td>0.008835045</td><td>4400       </td><td>550        </td><td>2512       </td><td>3850       </td><td>60.7       </td><td> 124.0892  </td><td> 24.08923  </td></tr>\n",
       "\t<tr><td>1          </td><td>0.10839387 </td><td>0.7202571  </td><td>0.000000000</td><td>0.000000000</td><td>0          </td><td>0.000000000</td><td>0.007163237</td><td>0.00000000 </td><td>0          </td><td>0.164185814</td><td>3700       </td><td>700        </td><td>2700       </td><td>3000       </td><td>75.4       </td><td>   0.0000  </td><td> 38.76615  </td></tr>\n",
       "</tbody>\n",
       "</table>\n"
      ],
      "text/latex": [
       "\\begin{tabular}{r|llllllllllllllllll}\n",
       " Y.f & LU.res & LU.arg & LU.ret & LU.com & LU.ent & LU.ser & LU.ind & LU.ins & LU.rec & LU.oth & AADT.max & AADT.min & AADT.avg & AADT.diff & Int.Angle & Loc.Dist.Curve & Loc.Dist.Int\\\\\n",
       "\\hline\n",
       "\t 1           & 0.12287168  & 0.8269683   & 0.000000000 & 0.000000000 & 0           & 0.000000000 & 0.000000000 & 0.00000000  & 0           & 0.050160053 & 2800        & 150         & 1638        & 2650        & 90.0        &  916.0948   & 816.09476  \\\\\n",
       "\t 1           & 0.05547302  & 0.9386648   & 0.000000000 & 0.000000000 & 0           & 0.005862158 & 0.000000000 & 0.00000000  & 0           & 0.000000000 &  750        & 550         &  650        &  200        & 90.0        & 1541.7880   & 600.82020  \\\\\n",
       "\t 1           & 0.14214478  & 0.8578552   & 0.000000000 & 0.000000000 & 0           & 0.000000000 & 0.000000000 & 0.00000000  & 0           & 0.000000000 &  950        &  19         &  495        &  931        & 80.6        &    0.0000   &  42.26423  \\\\\n",
       "\t 1           & 0.00002610  & 0.9852814   & 0.000000000 & 0.000000000 & 0           & 0.000000000 & 0.000000000 & 0.00000000  & 0           & 0.014692559 & 2800        &  12         & 1378        & 2788        & 90.0        &  902.7862   & 802.78624  \\\\\n",
       "\t 1           & 0.33532129  & 0.5808469   & 0.001191865 & 0.001785671 & 0           & 0.000000000 & 0.009990221 & 0.06202904  & 0           & 0.008835045 & 4400        & 550         & 2512        & 3850        & 60.7        &  124.0892   &  24.08923  \\\\\n",
       "\t 1           & 0.10839387  & 0.7202571   & 0.000000000 & 0.000000000 & 0           & 0.000000000 & 0.007163237 & 0.00000000  & 0           & 0.164185814 & 3700        & 700         & 2700        & 3000        & 75.4        &    0.0000   &  38.76615  \\\\\n",
       "\\end{tabular}\n"
      ],
      "text/markdown": [
       "\n",
       "| Y.f | LU.res | LU.arg | LU.ret | LU.com | LU.ent | LU.ser | LU.ind | LU.ins | LU.rec | LU.oth | AADT.max | AADT.min | AADT.avg | AADT.diff | Int.Angle | Loc.Dist.Curve | Loc.Dist.Int |\n",
       "|---|---|---|---|---|---|---|---|---|---|---|---|---|---|---|---|---|---|\n",
       "| 1           | 0.12287168  | 0.8269683   | 0.000000000 | 0.000000000 | 0           | 0.000000000 | 0.000000000 | 0.00000000  | 0           | 0.050160053 | 2800        | 150         | 1638        | 2650        | 90.0        |  916.0948   | 816.09476   |\n",
       "| 1           | 0.05547302  | 0.9386648   | 0.000000000 | 0.000000000 | 0           | 0.005862158 | 0.000000000 | 0.00000000  | 0           | 0.000000000 |  750        | 550         |  650        |  200        | 90.0        | 1541.7880   | 600.82020   |\n",
       "| 1           | 0.14214478  | 0.8578552   | 0.000000000 | 0.000000000 | 0           | 0.000000000 | 0.000000000 | 0.00000000  | 0           | 0.000000000 |  950        |  19         |  495        |  931        | 80.6        |    0.0000   |  42.26423   |\n",
       "| 1           | 0.00002610  | 0.9852814   | 0.000000000 | 0.000000000 | 0           | 0.000000000 | 0.000000000 | 0.00000000  | 0           | 0.014692559 | 2800        |  12         | 1378        | 2788        | 90.0        |  902.7862   | 802.78624   |\n",
       "| 1           | 0.33532129  | 0.5808469   | 0.001191865 | 0.001785671 | 0           | 0.000000000 | 0.009990221 | 0.06202904  | 0           | 0.008835045 | 4400        | 550         | 2512        | 3850        | 60.7        |  124.0892   |  24.08923   |\n",
       "| 1           | 0.10839387  | 0.7202571   | 0.000000000 | 0.000000000 | 0           | 0.000000000 | 0.007163237 | 0.00000000  | 0           | 0.164185814 | 3700        | 700         | 2700        | 3000        | 75.4        |    0.0000   |  38.76615   |\n",
       "\n"
      ],
      "text/plain": [
       "  Y.f LU.res     LU.arg    LU.ret      LU.com      LU.ent LU.ser     \n",
       "1 1   0.12287168 0.8269683 0.000000000 0.000000000 0      0.000000000\n",
       "2 1   0.05547302 0.9386648 0.000000000 0.000000000 0      0.005862158\n",
       "3 1   0.14214478 0.8578552 0.000000000 0.000000000 0      0.000000000\n",
       "4 1   0.00002610 0.9852814 0.000000000 0.000000000 0      0.000000000\n",
       "5 1   0.33532129 0.5808469 0.001191865 0.001785671 0      0.000000000\n",
       "6 1   0.10839387 0.7202571 0.000000000 0.000000000 0      0.000000000\n",
       "  LU.ind      LU.ins     LU.rec LU.oth      AADT.max AADT.min AADT.avg\n",
       "1 0.000000000 0.00000000 0      0.050160053 2800     150      1638    \n",
       "2 0.000000000 0.00000000 0      0.000000000  750     550       650    \n",
       "3 0.000000000 0.00000000 0      0.000000000  950      19       495    \n",
       "4 0.000000000 0.00000000 0      0.014692559 2800      12      1378    \n",
       "5 0.009990221 0.06202904 0      0.008835045 4400     550      2512    \n",
       "6 0.007163237 0.00000000 0      0.164185814 3700     700      2700    \n",
       "  AADT.diff Int.Angle Loc.Dist.Curve Loc.Dist.Int\n",
       "1 2650      90.0       916.0948      816.09476   \n",
       "2  200      90.0      1541.7880      600.82020   \n",
       "3  931      80.6         0.0000       42.26423   \n",
       "4 2788      90.0       902.7862      802.78624   \n",
       "5 3850      60.7       124.0892       24.08923   \n",
       "6 3000      75.4         0.0000       38.76615   "
      ]
     },
     "metadata": {},
     "output_type": "display_data"
    }
   ],
   "source": [
    "crash.data.numonly <- crash.data[\n",
    "    , c(FALSE, FALSE, TRUE, !sapply(crash.data[,4:ncol(crash.data)], is.factor))\n",
    "]\n",
    "head(crash.data.numonly)"
   ]
  },
  {
   "cell_type": "markdown",
   "metadata": {},
   "source": [
    "### 1. LDA with 5-fold cross validation"
   ]
  },
  {
   "cell_type": "code",
   "execution_count": 5,
   "metadata": {},
   "outputs": [],
   "source": [
    "cv.lda <- \n",
    "  function (data, model, yname, numclass=4, K=5, seed=123) {\n",
    "    n <- nrow(data)\n",
    "    set.seed(seed)\n",
    "    datay = data[, yname]\n",
    "    f <- ceiling(n/K)\n",
    "    s <- sample(rep(1:K, f), n)\n",
    "    \n",
    "    CV <- NULL\n",
    "    crashy <- NULL\n",
    "    modely <- NULL\n",
    "    classerror <- NULL\n",
    "    \n",
    "    for (i in 1:K) {\n",
    "      lda.fit <- lda(model, data=data[s!=i,])\n",
    "      lda.y <- data[s==i, yname]\n",
    "      lda.predy <- predict(lda.fit, data[s==i,])$class\n",
    "      error <- mean(lda.y!=lda.predy)\n",
    "      crashy <- c(crashy, lda.y)\n",
    "      modely <- c(modely, lda.predy)\n",
    "      CV <- c(CV, error)\n",
    "    }\n",
    "    \n",
    "    confmtx <- table(crashy, modely)\n",
    "    for (i in 1:numclass) {\n",
    "      classerror <- c(classerror, rowSums(confmtx[,-i])[i] / rowSums(confmtx)[i])\n",
    "    }\n",
    "    \n",
    "    list(K=K, knn_error_rate=mean(CV), seed=seed, confusion_matrix=confmtx, class_specific_error=classerror)\n",
    "  }\n"
   ]
  },
  {
   "cell_type": "code",
   "execution_count": 6,
   "metadata": {},
   "outputs": [
    {
     "data": {
      "text/plain": [
       "$K\n",
       "[1] 5\n",
       "\n",
       "$knn_error_rate\n",
       "[1] 0.5140575\n",
       "\n",
       "$seed\n",
       "[1] 123\n",
       "\n",
       "$confusion_matrix\n",
       "      modely\n",
       "crashy    1    2    3    4\n",
       "     1   34  189    2   88\n",
       "     2   32  475    5  427\n",
       "     3    6  238    5  377\n",
       "     4    6  238    1 1007\n",
       "\n",
       "$class_specific_error\n",
       "        1         2         3         4 \n",
       "0.8913738 0.4941427 0.9920128 0.1956869 \n"
      ]
     },
     "metadata": {},
     "output_type": "display_data"
    }
   ],
   "source": [
    "cv.lda(crash.logdata.numonly, Y.f~., \"Y.f\")"
   ]
  },
  {
   "cell_type": "markdown",
   "metadata": {},
   "source": [
    "### 2. QDA with 5-fold cross validation "
   ]
  },
  {
   "cell_type": "code",
   "execution_count": 7,
   "metadata": {},
   "outputs": [],
   "source": [
    "cv.qda <- \n",
    "  function (data, model, yname, numclass=4, K=5, seed=123) {\n",
    "    n <- nrow(data)\n",
    "    set.seed(seed)\n",
    "    datay = data[, yname]\n",
    "    f <- ceiling(n/K)\n",
    "    s <- sample(rep(1:K, f), n)\n",
    "    \n",
    "    CV <- NULL\n",
    "    crashy <- NULL\n",
    "    modely <- NULL\n",
    "    classerror <- NULL\n",
    "    \n",
    "    for (i in 1:K) {\n",
    "      qda.fit <- qda(model, data=data[s!=i,])\n",
    "      qda.y <- data[s==i, yname]\n",
    "      qda.predy <- predict(qda.fit, data[s==i,])$class\n",
    "      error <- mean(qda.y!=qda.predy)\n",
    "      crashy <- c(crashy, qda.y)\n",
    "      modely <- c(modely, qda.predy)\n",
    "      CV <- c(CV, error)\n",
    "    }\n",
    "      \n",
    "    confmtx <- table(crashy, modely)\n",
    "    for (i in 1:numclass) {\n",
    "      classerror <- c(classerror, rowSums(confmtx[,-i])[i] / rowSums(confmtx)[i])\n",
    "    }\n",
    "    \n",
    "    list(K=K, knn_error_rate=mean(CV), seed=seed, confusion_matrix=confmtx, class_specific_error=classerror)\n",
    "  }"
   ]
  },
  {
   "cell_type": "code",
   "execution_count": 8,
   "metadata": {},
   "outputs": [
    {
     "data": {
      "text/plain": [
       "$K\n",
       "[1] 5\n",
       "\n",
       "$knn_error_rate\n",
       "[1] 0.5853035\n",
       "\n",
       "$seed\n",
       "[1] 123\n",
       "\n",
       "$confusion_matrix\n",
       "      modely\n",
       "crashy    1    2    3    4\n",
       "     1   76   36   31  170\n",
       "     2   88   90  126  635\n",
       "     3   33   51   77  465\n",
       "     4   35   38  124 1055\n",
       "\n",
       "$class_specific_error\n",
       "        1         2         3         4 \n",
       "0.7571885 0.9041534 0.8769968 0.1573482 \n"
      ]
     },
     "metadata": {},
     "output_type": "display_data"
    }
   ],
   "source": [
    "cv.qda(crash.logdata.numonly, Y.f~., \"Y.f\")"
   ]
  },
  {
   "cell_type": "markdown",
   "metadata": {},
   "source": [
    "### 3. Naive Bayes with 5-fold cross vaidation"
   ]
  },
  {
   "cell_type": "code",
   "execution_count": 9,
   "metadata": {},
   "outputs": [],
   "source": [
    "cv.naiveBayes <- \n",
    "  function (data, model, yname, numclass=4, K=5, seed=123) {\n",
    "    n <- nrow(data)\n",
    "    set.seed(seed)\n",
    "    datay = data[, yname]\n",
    "    f <- ceiling(n/K)\n",
    "    s <- sample(rep(1:K, f), n)\n",
    "    \n",
    "    CV <- NULL\n",
    "    crashy <- NULL\n",
    "    modely <- NULL\n",
    "    classerror <- NULL\n",
    "    \n",
    "    for (i in 1:K) {\n",
    "      naiveBayes.fit <- naiveBayes(model, data=data[s!=i,])\n",
    "      naiveBayes.y <- data[s==i, yname]\n",
    "      naiveBayes.predy <- predict(naiveBayes.fit, data[s==i,])\n",
    "      error <- mean(naiveBayes.y!=naiveBayes.predy)\n",
    "      crashy <- c(crashy, naiveBayes.y)\n",
    "      modely <- c(modely, naiveBayes.predy)\n",
    "      CV <- c(CV, error)\n",
    "    }\n",
    "      \n",
    "    confmtx <- table(crashy, modely)\n",
    "    for (i in 1:numclass) {\n",
    "      classerror <- c(classerror, rowSums(confmtx[,-i])[i] / rowSums(confmtx)[i])\n",
    "    }\n",
    "    \n",
    "    list(K=K, knn_error_rate=mean(CV), seed=seed, confusion_matrix=confmtx, class_specific_error=classerror)\n",
    "  }"
   ]
  },
  {
   "cell_type": "code",
   "execution_count": 10,
   "metadata": {},
   "outputs": [
    {
     "data": {
      "text/plain": [
       "$K\n",
       "[1] 5\n",
       "\n",
       "$knn_error_rate\n",
       "[1] 0.5884984\n",
       "\n",
       "$seed\n",
       "[1] 123\n",
       "\n",
       "$confusion_matrix\n",
       "      modely\n",
       "crashy    1    2    3    4\n",
       "     1   96   31   43  143\n",
       "     2  160   84  163  532\n",
       "     3   62   43  101  420\n",
       "     4   54   42  149 1007\n",
       "\n",
       "$class_specific_error\n",
       "        1         2         3         4 \n",
       "0.6932907 0.9105431 0.8386581 0.1956869 \n"
      ]
     },
     "metadata": {},
     "output_type": "display_data"
    }
   ],
   "source": [
    "cv.naiveBayes(crash.logdata.numonly, Y.f~., \"Y.f\")"
   ]
  },
  {
   "cell_type": "markdown",
   "metadata": {},
   "source": [
    "### 4. Nearest Neighbor with 5-fold cross validation"
   ]
  },
  {
   "cell_type": "code",
   "execution_count": 11,
   "metadata": {},
   "outputs": [],
   "source": [
    "cv.knn <- \n",
    "  function (data, yname, k, numclass=4, cvfold=5, seed=123) {\n",
    "    n <- nrow(data)\n",
    "    set.seed(seed)\n",
    "    datay = data[, yname]\n",
    "    f <- ceiling(n/cvfold)\n",
    "    s <- sample(rep(1:cvfold, f), n)\n",
    "    \n",
    "    CV <- NULL\n",
    "    crashy <- NULL\n",
    "    modely <- NULL\n",
    "    classerror <- NULL\n",
    "      \n",
    "    for (i in 1:cvfold) {\n",
    "      knn.predy <- knn(data[s!=i,-1], data[s==i,-1], data[s!=i,yname], k=k)\n",
    "      knn.y <- data[s==i, yname]\n",
    "      error <- mean(knn.predy!=data[s==i,yname])\n",
    "      crashy <- c(crashy, knn.y)\n",
    "      modely <- c(modely, knn.predy)\n",
    "      CV <- c(CV, error)\n",
    "    }\n",
    "    confmtx <- table(crashy, modely)\n",
    "    for (i in 1:numclass) {\n",
    "      classerror <- c(classerror, rowSums(confmtx[,-i])[i] / rowSums(confmtx)[i])\n",
    "    }\n",
    "    \n",
    "    list(K=cvfold, knn_error_rate=mean(CV), seed=seed, confusion_matrix=confmtx, class_specific_error=classerror)\n",
    "  }"
   ]
  },
  {
   "cell_type": "code",
   "execution_count": 12,
   "metadata": {},
   "outputs": [
    {
     "data": {
      "image/png": "[encoded data removed]",
      "text/plain": [
       "Plot with title \"KNN cv error rate with different choice of k\""
      ]
     },
     "metadata": {},
     "output_type": "display_data"
    }
   ],
   "source": [
    "knn_er <- NULL\n",
    "for (i in 1:30) {\n",
    "    knn_er <- c(cv.knn(crash.logdata.numonly, \"Y.f\", i)$knn_error_rate, knn_er)\n",
    "}\n",
    "plot(1:30, rev(knn_er), xlab=\"predefined number of neighbors (k)\", main=\"KNN cv error rate with different choice of k\")"
   ]
  },
  {
   "cell_type": "code",
   "execution_count": 13,
   "metadata": {
    "scrolled": true
   },
   "outputs": [
    {
     "data": {
      "text/plain": [
       "$K\n",
       "[1] 5\n",
       "\n",
       "$knn_error_rate\n",
       "[1] 0.527476\n",
       "\n",
       "$seed\n",
       "[1] 123\n",
       "\n",
       "$confusion_matrix\n",
       "      modely\n",
       "crashy   1   2   3   4\n",
       "     1  45 152  22  94\n",
       "     2  41 380  56 462\n",
       "     3  12 167  59 388\n",
       "     4  10 171  76 995\n",
       "\n",
       "$class_specific_error\n",
       "        1         2         3         4 \n",
       "0.8562300 0.5953142 0.9057508 0.2052716 \n"
      ]
     },
     "metadata": {},
     "output_type": "display_data"
    }
   ],
   "source": [
    "cv.knn(crash.logdata.numonly, \"Y.f\", 20)"
   ]
  },
  {
   "cell_type": "markdown",
   "metadata": {},
   "source": [
    "### REMOVE THE CLASS 4 (no crash)"
   ]
  },
  {
   "cell_type": "code",
   "execution_count": 14,
   "metadata": {},
   "outputs": [],
   "source": [
    "crash.logdata.3class <- crash.logdata.numonly[\n",
    "    (crash.logdata.numonly$Y.f!=4),\n",
    "]\n",
    "crash.logdata.3class$Y.f <- factor(crash.logdata.3class$Y.f)"
   ]
  },
  {
   "cell_type": "code",
   "execution_count": 15,
   "metadata": {},
   "outputs": [
    {
     "data": {
      "text/plain": [
       "$K\n",
       "[1] 5\n",
       "\n",
       "$knn_error_rate\n",
       "[1] 0.4941631\n",
       "\n",
       "$seed\n",
       "[1] 123\n",
       "\n",
       "$confusion_matrix\n",
       "      modely\n",
       "crashy   1   2   3\n",
       "     1  32 255  26\n",
       "     2  26 794 119\n",
       "     3   4 498 124\n",
       "\n",
       "$class_specific_error\n",
       "        1         2         3 \n",
       "0.8977636 0.1544196 0.8019169 \n"
      ]
     },
     "metadata": {},
     "output_type": "display_data"
    }
   ],
   "source": [
    "cv.lda(crash.logdata.3class, Y.f~., \"Y.f\", numclass=3)"
   ]
  },
  {
   "cell_type": "code",
   "execution_count": 16,
   "metadata": {},
   "outputs": [
    {
     "data": {
      "text/plain": [
       "$K\n",
       "[1] 5\n",
       "\n",
       "$knn_error_rate\n",
       "[1] 0.6075333\n",
       "\n",
       "$seed\n",
       "[1] 123\n",
       "\n",
       "$confusion_matrix\n",
       "      modely\n",
       "crashy   1   2   3\n",
       "     1  82  56 175\n",
       "     2 113 129 697\n",
       "     3  32  68 526\n",
       "\n",
       "$class_specific_error\n",
       "        1         2         3 \n",
       "0.7380192 0.8626198 0.1597444 \n"
      ]
     },
     "metadata": {},
     "output_type": "display_data"
    }
   ],
   "source": [
    "cv.qda(crash.logdata.3class, Y.f~., \"Y.f\", numclass=3)"
   ]
  },
  {
   "cell_type": "code",
   "execution_count": 17,
   "metadata": {},
   "outputs": [
    {
     "data": {
      "text/plain": [
       "$K\n",
       "[1] 5\n",
       "\n",
       "$knn_error_rate\n",
       "[1] 0.6224454\n",
       "\n",
       "$seed\n",
       "[1] 123\n",
       "\n",
       "$confusion_matrix\n",
       "      modely\n",
       "crashy   1   2   3\n",
       "     1  97  47 169\n",
       "     2 178 121 640\n",
       "     3  57  78 491\n",
       "\n",
       "$class_specific_error\n",
       "        1         2         3 \n",
       "0.6900958 0.8711395 0.2156550 \n"
      ]
     },
     "metadata": {},
     "output_type": "display_data"
    }
   ],
   "source": [
    "cv.naiveBayes(crash.logdata.3class, Y.f~., \"Y.f\", numclass=3)"
   ]
  },
  {
   "cell_type": "code",
   "execution_count": 18,
   "metadata": {},
   "outputs": [
    {
     "data": {
      "text/plain": [
       "$K\n",
       "[1] 5\n",
       "\n",
       "$knn_error_rate\n",
       "[1] 0.527476\n",
       "\n",
       "$seed\n",
       "[1] 123\n",
       "\n",
       "$confusion_matrix\n",
       "      modely\n",
       "crashy   1   2   3   4\n",
       "     1  45 152  22  94\n",
       "     2  41 380  56 462\n",
       "     3  12 167  59 388\n",
       "     4  10 171  76 995\n",
       "\n",
       "$class_specific_error\n",
       "        1         2         3 \n",
       "0.8562300 0.5953142 0.9057508 \n"
      ]
     },
     "metadata": {},
     "output_type": "display_data"
    }
   ],
   "source": [
    "cv.knn(crash.logdata.numonly, \"Y.f\", 20, numclass=3)"
   ]
  },
  {
   "cell_type": "code",
   "execution_count": null,
   "metadata": {},
   "outputs": [],
   "source": []
  }
 ],
 "metadata": {
  "kernelspec": {
   "display_name": "R",
   "language": "R",
   "name": "ir"
  },
  "language_info": {
   "codemirror_mode": "r",
   "file_extension": ".r",
   "mimetype": "text/x-r-source",
   "name": "R",
   "pygments_lexer": "r",
   "version": "3.5.1"
  }
 },
 "nbformat": 4,
 "nbformat_minor": 2
}
